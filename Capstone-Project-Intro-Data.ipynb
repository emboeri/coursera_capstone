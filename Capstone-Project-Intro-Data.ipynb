{
    "nbformat_minor": 1, 
    "cells": [
        {
            "source": "# <u> Capstone Project: The Battle of Neighborhoods </u>\nApplied Data Science Capstone by IBM/Coursera\n<br>Author: Emilie Boeri", 
            "cell_type": "markdown", 
            "metadata": {}
        }, 
        {
            "source": "### Table of Contents\n<div class=\"alert alert-block alert-info\" style=\"margin-top: 20px\">\n<font size = 3>\n\n1. <a href=\"#intro\">Introduction</a> \n<br> \n2. <a href=\"#data\">Data</a>\n<br>    \n3. <a href=\"#method\">Methodology</a>\n<br>\n3. <a href=\"#results\">Results</a>\n<br>\n3. <a href=\"#discuss\">Discussion</a>\n<br>\n3. <a href=\"#conclusion\">Conclusion</a>\n</font>\n</div>", 
            "cell_type": "markdown", 
            "metadata": {
                "collapsed": true
            }
        }, 
        {
            "source": "<img src='https://blogmedia.evbstatic.com/wp-content/uploads/rally-legacy/2017/01/02195449/night-drives-los-angeles-1500x750.jpg' width=\"500\" height=\"50\"/>", 
            "cell_type": "markdown", 
            "metadata": {}
        }, 
        {
            "source": "## Introduction <a id='intro'></a>", 
            "cell_type": "markdown", 
            "metadata": {}
        }, 
        {
            "source": "Los Angeles, California is a sprawling metropolian area that is known for it's heavy automobile traffic and a public transportion system that leaves much to be desired. In the pursuit of a happier, healthier experience living in Los Angeles, this project aims to find the most walkable cities in the greater Los Angeles area where one can reside without having a car. \n\nMeasuring neighborhood walkability can also provide significant benefits for cities looking to increase growth and attract more people, or for businesses to determine ideal locations to constuct new properties, like apartment buildings or storefronts. For more information on the economic and social benefits of walkable cities, the following 2018 article published in Vox provides a great overview: ['Why walkable cities are good for the economy, according to a city planner'](https://www.vox.com/the-goods/2018/10/26/18025000/walkable-city-walk-score-economy)", 
            "cell_type": "markdown", 
            "metadata": {}
        }, 
        {
            "source": "## Data <a id='data'></a>", 
            "cell_type": "markdown", 
            "metadata": {}
        }, 
        {
            "source": "This project will leverage the following data sources to determine which neighborhoods are the most walkable:\n\n- **Wikipedia page listing the cities in Los Angeles county**\n    * link: https://en.wikipedia.org/wiki/List_of_cities_in_Los_Angeles_County,_California\n- **Foursqaure API**\n    * Location data to determine all of the various venues around Los Angeles\n- **Los Angeles health indicators dataset via lacounty.gov**\n    * This dataset contains health and wellness metadata (including demographics, social and economic characteristics, and crime rates) for 86 Los Angeles County communities that will be used to determine additional features likely to contrbute to city walkability\n    * link: https://data.lacounty.gov/Health/Los-Angeles-County-City-and-Community-Health-Profi/capb-kusk", 
            "cell_type": "markdown", 
            "metadata": {}
        }, 
        {
            "source": "", 
            "cell_type": "code", 
            "execution_count": null, 
            "outputs": [], 
            "metadata": {}
        }
    ], 
    "nbformat": 4, 
    "metadata": {
        "kernelspec": {
            "display_name": "Python 3.6", 
            "name": "python3", 
            "language": "python"
        }, 
        "language_info": {
            "mimetype": "text/x-python", 
            "nbconvert_exporter": "python", 
            "version": "3.6.8", 
            "name": "python", 
            "pygments_lexer": "ipython3", 
            "file_extension": ".py", 
            "codemirror_mode": {
                "version": 3, 
                "name": "ipython"
            }
        }
    }
}